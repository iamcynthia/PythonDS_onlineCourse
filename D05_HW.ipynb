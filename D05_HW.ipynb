{
 "cells": [
  {
   "cell_type": "markdown",
   "metadata": {
    "colab_type": "text",
    "id": "P6xk2_jLsvFF"
   },
   "source": [
    "## D05"
   ]
  },
  {
   "cell_type": "markdown",
   "metadata": {},
   "source": [
    "### 1. 產生一個 1-11 的一維陣列，並且把 3-6 由正數變成負數。\n",
    "\n"
   ]
  },
  {
   "cell_type": "code",
   "execution_count": 2,
   "metadata": {},
   "outputs": [],
   "source": [
    "import numpy as np"
   ]
  },
  {
   "cell_type": "code",
   "execution_count": 3,
   "metadata": {
    "colab": {},
    "colab_type": "code",
    "id": "5QrYoyNWsvFS"
   },
   "outputs": [
    {
     "name": "stdout",
     "output_type": "stream",
     "text": [
      "[ 1  2  3 -4  5 -6  7  8  9 10 11]\n"
     ]
    }
   ],
   "source": [
    "arr = np.arange(11)+1\n",
    "for i in arr:\n",
    "    if i>=3 and i <= 6:\n",
    "        arr[i] = -arr[i]\n",
    "print(arr)"
   ]
  },
  {
   "cell_type": "code",
   "execution_count": 4,
   "metadata": {},
   "outputs": [
    {
     "name": "stdout",
     "output_type": "stream",
     "text": [
      "[ 1  2 -3 -4 -5 -6  7  8  9 10 11]\n"
     ]
    }
   ],
   "source": [
    "##解答\n",
    "Z = np.arange(11)+1\n",
    "\n",
    "Z[(3 <= Z) & (Z < 7)] *= -1\n",
    "print(Z)"
   ]
  },
  {
   "cell_type": "markdown",
   "metadata": {},
   "source": [
    "### 2. 試著從一個隨機陣列中，找出比 0.5 大的數有幾個？\n",
    "\n"
   ]
  },
  {
   "cell_type": "code",
   "execution_count": 6,
   "metadata": {
    "colab": {},
    "colab_type": "code",
    "id": "e1gVI0tvsvFY"
   },
   "outputs": [
    {
     "name": "stdout",
     "output_type": "stream",
     "text": [
      "[[0.49796442 0.69695902 0.52646306 0.52596593 0.86080071 0.12156971]\n",
      " [0.30659117 0.28772477 0.05460492 0.57595137 0.75940715 0.6307173 ]\n",
      " [0.80117408 0.50902006 0.0531966  0.5617312  0.25656502 0.21165966]]\n",
      "[[False  True  True  True  True False]\n",
      " [False False False  True  True  True]\n",
      " [ True  True False  True False False]]\n",
      "10\n"
     ]
    }
   ],
   "source": [
    "A = np.random.rand(3, 6)\n",
    "print(A)\n",
    "print(A>0.5)\n",
    "print(np.sum(A>0.5))  ## True = 1"
   ]
  },
  {
   "cell_type": "code",
   "execution_count": 7,
   "metadata": {},
   "outputs": [
    {
     "name": "stdout",
     "output_type": "stream",
     "text": [
      "10\n"
     ]
    }
   ],
   "source": [
    "## 解答\n",
    "print(A[A > 0.5].size)"
   ]
  },
  {
   "cell_type": "markdown",
   "metadata": {},
   "source": [
    "作業目標<br>\n",
    "計算有缺失值的資料，統計量實作<br>\n",
    "作業重點<br>\n",
    "當遇到缺失值有函式可以處理，不須額外寫程式刪除<br>\n",
    "計算統計量時不能出現缺失值"
   ]
  },
  {
   "cell_type": "markdown",
   "metadata": {},
   "source": [
    "題目:<br>\n",
    "english_score = np.array([55,89,76,65,48,70])<br>\n",
    "math_score = np.array([60,85,60,68,np.nan,60])<br>\n",
    "chinese_score = np.array([65,90,82,72,66,77])<br>\n",
    "上3列共六位同學的英文、數學、國文成績，第一個元素代表第一位同學，舉例第一位同學英文55分、數學60分、國文65分，今天第五位同學因某原因沒來考試，導致數學成績缺值，運用上列數據回答下列問題。"
   ]
  },
  {
   "cell_type": "code",
   "execution_count": 13,
   "metadata": {},
   "outputs": [],
   "source": [
    "english_score = np.array([55,89,76,65,48,70])\n",
    "math_score = np.array([60,85,60,68,np.nan,60])\n",
    "chinese_score = np.array([65,90,82,72,66,77])"
   ]
  },
  {
   "cell_type": "markdown",
   "metadata": {},
   "source": [
    "### 1. 請計算各科成績平均、最大值、最小值、標準差，其中數學缺一筆資料可忽略?"
   ]
  },
  {
   "cell_type": "code",
   "execution_count": 19,
   "metadata": {},
   "outputs": [
    {
     "name": "stdout",
     "output_type": "stream",
     "text": [
      "英文科\n",
      "平均： 67.16666666666667\n",
      "最大值： 89\n",
      "最小值： 48\n",
      "標準差： 13.433995020924426\n"
     ]
    }
   ],
   "source": [
    "# 英文\n",
    "print(\"英文科\")\n",
    "print(\"平均：\", np.mean(english_score))\n",
    "print(\"最大值：\", np.max(english_score))\n",
    "print(\"最小值：\", np.min(english_score))\n",
    "print(\"標準差：\", np.std(english_score))"
   ]
  },
  {
   "cell_type": "code",
   "execution_count": 26,
   "metadata": {},
   "outputs": [
    {
     "name": "stdout",
     "output_type": "stream",
     "text": [
      "數學科\n",
      "平均： nan\n",
      "最大值： nan\n",
      "最小值： nan\n",
      "標準差： nan\n",
      "\n",
      "\n",
      "平均： 66.6\n",
      "最大值： 85.0\n",
      "最小值： 60.0\n",
      "標準差： 9.707728879609279\n"
     ]
    }
   ],
   "source": [
    "# 數學 - 缺一筆\n",
    "print(\"數學科\")\n",
    "print(\"平均：\", np.mean(math_score))\n",
    "print(\"最大值：\", np.max(math_score))\n",
    "print(\"最小值：\", np.min(math_score))\n",
    "print(\"標準差：\", np.std(math_score))\n",
    "\n",
    "print(\"\\n\")\n",
    "np.isnan(math_score)\n",
    "print(\"平均：\", np.mean(math_score[~np.isnan(math_score)])) ##空值不列入計算\n",
    "print(\"最大值：\", np.max(math_score[~np.isnan(math_score)]))\n",
    "print(\"最小值：\", np.min(math_score[~np.isnan(math_score)]))\n",
    "print(\"標準差：\", np.std(math_score[~np.isnan(math_score)]))"
   ]
  },
  {
   "cell_type": "code",
   "execution_count": 27,
   "metadata": {},
   "outputs": [
    {
     "name": "stdout",
     "output_type": "stream",
     "text": [
      "國文科\n",
      "平均： 75.33333333333333\n",
      "最大值： 90\n",
      "最小值： 65\n",
      "標準差： 8.825468196582484\n"
     ]
    }
   ],
   "source": [
    "# 國文\n",
    "print(\"國文科\")\n",
    "print(\"平均：\", np.mean(chinese_score))\n",
    "print(\"最大值：\", np.max(chinese_score))\n",
    "print(\"最小值：\", np.min(chinese_score))\n",
    "print(\"標準差：\", np.std(chinese_score))"
   ]
  },
  {
   "cell_type": "markdown",
   "metadata": {},
   "source": [
    "### 2. 第五位同學補考數學後成績為55，請計算補考後數學成績平均、最大值、最小值、標準差?"
   ]
  },
  {
   "cell_type": "code",
   "execution_count": 37,
   "metadata": {},
   "outputs": [
    {
     "name": "stdout",
     "output_type": "stream",
     "text": [
      "[60. 85. 60. 68. 55. 60.]\n",
      "平均： 64.66666666666667\n",
      "最大值： 85.0\n",
      "最小值： 55.0\n",
      "標準差： 9.860132971832694\n"
     ]
    }
   ],
   "source": [
    "fill_value = 55\n",
    "math_score = np.array([60,85,60,68,np.nan,60])\n",
    "math_score[np.isnan(math_score)] = fill_value  ## 不可使用 math_score[math_score == np.nan] = fill_value\n",
    "print(math_score)\n",
    "print(\"平均：\", np.mean(math_score))\n",
    "print(\"最大值：\", np.max(math_score))\n",
    "print(\"最小值：\", np.min(math_score))\n",
    "print(\"標準差：\", np.std(math_score))"
   ]
  },
  {
   "cell_type": "markdown",
   "metadata": {},
   "source": [
    "### 3. 用補考後資料找出與國文成績相關係數最高的學科?"
   ]
  },
  {
   "cell_type": "code",
   "execution_count": 43,
   "metadata": {},
   "outputs": [
    {
     "data": {
      "text/plain": [
       "0.740568027023363"
      ]
     },
     "execution_count": 43,
     "metadata": {},
     "output_type": "execute_result"
    }
   ],
   "source": [
    "# math vs chinese\n",
    "np.corrcoef(math_score, chinese_score)[0,1]"
   ]
  },
  {
   "cell_type": "code",
   "execution_count": 42,
   "metadata": {},
   "outputs": [
    {
     "data": {
      "text/plain": [
       "0.9779282830211268"
      ]
     },
     "execution_count": 42,
     "metadata": {},
     "output_type": "execute_result"
    }
   ],
   "source": [
    "# english vs chinese\n",
    "np.corrcoef(english_score, chinese_score)[0,1]"
   ]
  },
  {
   "cell_type": "code",
   "execution_count": 44,
   "metadata": {},
   "outputs": [
    {
     "name": "stdout",
     "output_type": "stream",
     "text": [
      "英文與國文的相關係數較高\n"
     ]
    }
   ],
   "source": [
    "print(\"英文與國文的相關係數較高\")"
   ]
  }
 ],
 "metadata": {
  "colab": {
   "name": "Day_023_HW.ipynb",
   "provenance": []
  },
  "kernelspec": {
   "display_name": "Python 3",
   "language": "python",
   "name": "python3"
  },
  "language_info": {
   "codemirror_mode": {
    "name": "ipython",
    "version": 3
   },
   "file_extension": ".py",
   "mimetype": "text/x-python",
   "name": "python",
   "nbconvert_exporter": "python",
   "pygments_lexer": "ipython3",
   "version": "3.7.4"
  }
 },
 "nbformat": 4,
 "nbformat_minor": 1
}
