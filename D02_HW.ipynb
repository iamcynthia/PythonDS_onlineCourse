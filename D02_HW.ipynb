{
 "cells": [
  {
   "cell_type": "markdown",
   "metadata": {
    "id": "P6xk2_jLsvFF"
   },
   "source": [
    "## D02 作業"
   ]
  },
  {
   "cell_type": "markdown",
   "metadata": {
    "id": "qmOwRRtHNgfI"
   },
   "source": [
    "### 1. [簡答題] 請問 type(...) 跟 a.dtype 這兩個語法有什麼不同？\n",
    "\n",
    "```\n",
    "print('type(a): ', type(a))\n",
    "print('a.dtype: ', a.dtype)\n",
    "```\n"
   ]
  },
  {
   "cell_type": "code",
   "execution_count": 1,
   "metadata": {
    "id": "5QrYoyNWsvFS",
    "outputId": "8977bda1-0e79-4faa-8370-76a2b0767482"
   },
   "outputs": [
    {
     "name": "stdout",
     "output_type": "stream",
     "text": [
      "dtype代表每個陣列中的資料型態\n",
      "type代表變數的型態\n"
     ]
    }
   ],
   "source": [
    "print('dtype代表每個陣列中的資料型態')\n",
    "print('type代表變數的型態')"
   ]
  },
  {
   "cell_type": "markdown",
   "metadata": {
    "id": "hgsGyqXHNgfK"
   },
   "source": [
    "### 2. 請撰寫一個判斷 a 的元素是否等於指定資料型態的函式，並且通過測試。\n",
    "\n"
   ]
  },
  {
   "cell_type": "code",
   "execution_count": 2,
   "metadata": {
    "id": "e1gVI0tvsvFY"
   },
   "outputs": [],
   "source": [
    "# 記得先 Import 正確的套件\n",
    "import numpy as np\n",
    "import random"
   ]
  },
  {
   "cell_type": "code",
   "execution_count": 13,
   "metadata": {
    "id": "ew2BtKF2NgfL"
   },
   "outputs": [],
   "source": [
    "def is_dtype(a, t):\n",
    "    if a.dtype == t:\n",
    "        return True\n",
    "    else:\n",
    "        return False"
   ]
  },
  {
   "cell_type": "code",
   "execution_count": 14,
   "metadata": {
    "id": "sGs__HXnNgfL",
    "outputId": "6230ab6b-ea54-4102-ebae-5202b9f4826d"
   },
   "outputs": [
    {
     "name": "stdout",
     "output_type": "stream",
     "text": [
      "True\n",
      "True\n",
      "True\n"
     ]
    }
   ],
   "source": [
    "a = np.random.randint(10, size=6) \n",
    "\n",
    "# 測試一\n",
    "print(is_dtype(a, 'int')) # True\n",
    "\n",
    "# 測試二\n",
    "print(is_dtype(a, np.int)) # True\n",
    "\n",
    "# 測試三\n",
    "print(is_dtype(a, np.dtype('int'))) # True"
   ]
  },
  {
   "cell_type": "markdown",
   "metadata": {
    "id": "iM6o3Ra1NgfM"
   },
   "source": [
    "### 3. [簡答題] 承上題，請判斷下列三種寫法為何不正確？\n",
    "\n",
    "```\n",
    "def is_dtype(a, t):\n",
    "    return a.dtype is t\n",
    "\n",
    "def is_dtype(a, t):\n",
    "    return type(a) == np.dtype(t)\n",
    "\n",
    "def is_dtype(a, t):\n",
    "    return type(a) is np.dtype(t)\n",
    "```"
   ]
  },
  {
   "cell_type": "code",
   "execution_count": null,
   "metadata": {},
   "outputs": [],
   "source": [
    "print('is是強比較，必須所有規格皆相同，包含是哪一種物件')\n",
    "print('而 == 的比較只會考慮自定義的規則，例如只需要物件的表現形式。')"
   ]
  },
  {
   "cell_type": "code",
   "execution_count": null,
   "metadata": {},
   "outputs": [],
   "source": []
  },
  {
   "cell_type": "code",
   "execution_count": null,
   "metadata": {},
   "outputs": [],
   "source": []
  }
 ],
 "metadata": {
  "colab": {
   "name": "02 Homework.ipynb",
   "provenance": []
  },
  "kernelspec": {
   "display_name": "Python 3",
   "language": "python",
   "name": "python3"
  },
  "language_info": {
   "codemirror_mode": {
    "name": "ipython",
    "version": 3
   },
   "file_extension": ".py",
   "mimetype": "text/x-python",
   "name": "python",
   "nbconvert_exporter": "python",
   "pygments_lexer": "ipython3",
   "version": "3.7.4"
  }
 },
 "nbformat": 4,
 "nbformat_minor": 1
}
